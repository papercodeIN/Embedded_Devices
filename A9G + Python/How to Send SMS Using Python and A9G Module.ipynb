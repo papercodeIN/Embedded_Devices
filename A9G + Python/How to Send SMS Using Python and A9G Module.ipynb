{
 "cells": [
  {
   "cell_type": "code",
   "execution_count": 1,
   "id": "f9917ce7-e2f4-4d59-a9b8-1bf3a9ab6027",
   "metadata": {},
   "outputs": [],
   "source": [
    "import serial\n",
    "import time"
   ]
  },
  {
   "cell_type": "markdown",
   "id": "c0945e8b-9b95-4937-8179-3371c861c9d0",
   "metadata": {},
   "source": [
    "# Function to send an AT command to the A9G module"
   ]
  },
  {
   "cell_type": "code",
   "execution_count": 2,
   "id": "41ae7148-0030-4d33-8e53-395342164956",
   "metadata": {},
   "outputs": [],
   "source": [
    "def send_command(command):\n",
    "    ser.write((command + '\\r\\n').encode())\n",
    "    time.sleep(1)\n",
    "    response = ser.read(ser.inWaiting()).decode()\n",
    "    return response"
   ]
  },
  {
   "cell_type": "markdown",
   "id": "c348442d-5181-43dd-a3cb-89f317e66962",
   "metadata": {},
   "source": [
    "# Function to send an SMS"
   ]
  },
  {
   "cell_type": "code",
   "execution_count": 3,
   "id": "bdcab4ef-2051-4040-a168-a3702dd18a76",
   "metadata": {},
   "outputs": [],
   "source": [
    "def send_sms(phone_number, message):\n",
    "    send_command('AT+CMGF=1')  # Set SMS text mode\n",
    "    send_command('AT+CMGS=\"{}\"'.format(phone_number))  # Set the phone number\n",
    "    time.sleep(1)\n",
    "    send_command(message + chr(26))  # Send the message and terminate with Ctrl+Z"
   ]
  },
  {
   "cell_type": "markdown",
   "id": "01682953-29cb-4de4-828d-c4afd529e318",
   "metadata": {},
   "source": [
    "# Main code"
   ]
  },
  {
   "cell_type": "code",
   "execution_count": 6,
   "id": "756c27cd-b62e-495d-b3a4-f7a9442468ea",
   "metadata": {},
   "outputs": [],
   "source": [
    "if __name__ == \"__main__\":\n",
    "    # Open serial connection to the A9G module\n",
    "    ser = serial.Serial('COM5', 115200, timeout=1)\n",
    "\n",
    "    # Wait for the module to initialize\n",
    "    time.sleep(2)\n",
    "\n",
    "    # Send SMS\n",
    "    # phone_number = input(\"Enter phone number (e.g. +549XXXXXXXXXX): \")\n",
    "    # message = input(\"Enter message: \")\n",
    "    phone_number = \"+917284867759\"\n",
    "    message = \"\"\"\n",
    "    Line 1\n",
    "    Line 2\n",
    "    Line 2\n",
    "    From Python\n",
    "    \"\"\"\n",
    "    send_sms(phone_number, message)\n",
    "\n",
    "    # Close serial connection\n",
    "    ser.close()"
   ]
  },
  {
   "cell_type": "code",
   "execution_count": null,
   "id": "998ec97d-c769-472f-a1b1-43199cbde4e5",
   "metadata": {},
   "outputs": [],
   "source": []
  }
 ],
 "metadata": {
  "kernelspec": {
   "display_name": "Python 3 (ipykernel)",
   "language": "python",
   "name": "python3"
  },
  "language_info": {
   "codemirror_mode": {
    "name": "ipython",
    "version": 3
   },
   "file_extension": ".py",
   "mimetype": "text/x-python",
   "name": "python",
   "nbconvert_exporter": "python",
   "pygments_lexer": "ipython3",
   "version": "3.12.2"
  }
 },
 "nbformat": 4,
 "nbformat_minor": 5
}
