{
 "cells": [
  {
   "cell_type": "code",
   "execution_count": null,
   "id": "50a03249-27e1-4f90-98e8-75a80606ea3f",
   "metadata": {},
   "outputs": [],
   "source": [
    "import serial\n",
    "import time\n",
    "import re"
   ]
  },
  {
   "cell_type": "markdown",
   "id": "cb979578-86a4-414b-a4f6-f9818b2ef591",
   "metadata": {},
   "source": [
    "# MQTT broker details"
   ]
  },
  {
   "cell_type": "code",
   "execution_count": null,
   "id": "7a0ef6f1-ab96-4540-8097-5dfaa8355e2f",
   "metadata": {},
   "outputs": [],
   "source": [
    "mqtt_host = \"0.tcp.in.ngrok.io\"\n",
    "mqtt_port = \"16039\"\n",
    "mqtt_user = \"\"\n",
    "mqtt_password = \"\"\n",
    "topic_to_subscribe = \"Test\""
   ]
  },
  {
   "cell_type": "markdown",
   "id": "4c5e76c1-91dd-400e-b776-c4fd42b2ecb9",
   "metadata": {},
   "source": [
    "# Function to send AT command"
   ]
  },
  {
   "cell_type": "code",
   "execution_count": null,
   "id": "aacb5d0b-2c0d-4d69-8f93-f964c937f28c",
   "metadata": {},
   "outputs": [],
   "source": [
    "def send_command(command):\n",
    "    ser.write((command + '\\r\\n').encode())\n",
    "    time.sleep(1)\n",
    "    response = ser.read(ser.inWaiting()).decode()\n",
    "    return response"
   ]
  },
  {
   "cell_type": "markdown",
   "id": "9e119a22-6407-4fa5-89f5-5d4a505147c5",
   "metadata": {},
   "source": [
    "# Function to connect to MQTT broker"
   ]
  },
  {
   "cell_type": "code",
   "execution_count": null,
   "id": "82ebd471-c05e-4953-91a1-2c0cdfea076f",
   "metadata": {},
   "outputs": [],
   "source": [
    "def connect_to_mqtt(host, port, user, password):\n",
    "    send_command('AT+CGATT=1')\n",
    "    send_command('AT+CGDCONT=1,\"IP\",\"CMNET\"')\n",
    "    send_command('AT+CGACT=1,1')\n",
    "    # Connect to MQTT broker using A9G board\n",
    "    command = 'AT+MQTTCONN=\"{}\",{},12345,120,0,\"{}\",\"{}\"'.format(host, port, user, password)\n",
    "    send_command(command)"
   ]
  },
  {
   "cell_type": "markdown",
   "id": "c41c1855-04ce-4957-a377-eb56bd6f9512",
   "metadata": {},
   "source": [
    "# Function to subscribe to MQTT topic"
   ]
  },
  {
   "cell_type": "code",
   "execution_count": null,
   "id": "9654aee1-d326-4e93-b235-1309cdbc4e46",
   "metadata": {},
   "outputs": [],
   "source": [
    "def subscribe_to_topic(topic):\n",
    "    command = 'AT+MQTTSUB=\"{}\",1,0'.format(topic)\n",
    "    send_command(command)"
   ]
  },
  {
   "cell_type": "markdown",
   "id": "e2d241a9-4b22-458f-a866-0b41ad2223ca",
   "metadata": {},
   "source": [
    "# Main code"
   ]
  },
  {
   "cell_type": "code",
   "execution_count": null,
   "id": "ab2970d7-2443-4d78-ad6c-08b81bdb0a4b",
   "metadata": {},
   "outputs": [],
   "source": [
    "if __name__ == \"__main__\":\n",
    "    # Open serial connection to the A9G module\n",
    "    ser = serial.Serial('COM5', 115200, timeout=1)\n",
    "\n",
    "    # Wait for the module to initialize\n",
    "    time.sleep(2)\n",
    "\n",
    "    try:\n",
    "\n",
    "        # Connect to MQTT broker using A9G board\n",
    "        connect_to_mqtt(mqtt_host, mqtt_port, mqtt_user, mqtt_password)\n",
    "\n",
    "        # Subscribe to MQTT topic\n",
    "        subscribe_to_topic(topic_to_subscribe)\n",
    "        print(\"Subscribed to topic:\", topic_to_subscribe)\n",
    "\n",
    "        # Loop to receive MQTT messages\n",
    "        while True:\n",
    "            if ser.inWaiting() > 0:\n",
    "                response = ser.read(ser.inWaiting()).decode()\n",
    "                print(\"Received MQTT message:\", response)\n",
    "                if \"+MQTTPUBLISH:\" in response:\n",
    "                    # Extract message topic and payload\n",
    "                    parts = response.split(\",\")\n",
    "                    if len(parts) >= 4:\n",
    "                        message_topic = parts[1].strip('\"')\n",
    "                        message_payload = parts[3].strip('\"')\n",
    "                        print(\"Message Topic:\", message_topic)\n",
    "                        print(\"Message Payload:\", message_payload)\n",
    "                    else:\n",
    "                        print(\"Invalid response format for MQTT PUBLISH message.\")\n",
    "            time.sleep(1)\n",
    "\n",
    "    except KeyboardInterrupt:\n",
    "        print(\"Exiting program.\")\n",
    "\n",
    "    # Close serial connection\n",
    "    ser.close()"
   ]
  },
  {
   "cell_type": "code",
   "execution_count": null,
   "id": "1f949d34-63f5-4e93-b018-337f1bac1815",
   "metadata": {},
   "outputs": [],
   "source": []
  }
 ],
 "metadata": {
  "kernelspec": {
   "display_name": "Python 3 (ipykernel)",
   "language": "python",
   "name": "python3"
  },
  "language_info": {
   "codemirror_mode": {
    "name": "ipython",
    "version": 3
   },
   "file_extension": ".py",
   "mimetype": "text/x-python",
   "name": "python",
   "nbconvert_exporter": "python",
   "pygments_lexer": "ipython3",
   "version": "3.12.2"
  }
 },
 "nbformat": 4,
 "nbformat_minor": 5
}
