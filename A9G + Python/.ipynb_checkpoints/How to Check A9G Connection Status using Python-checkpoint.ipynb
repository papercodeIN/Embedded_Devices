{
 "cells": [
  {
   "cell_type": "code",
   "execution_count": null,
   "id": "a991afdc-4ba6-4b9a-998e-fe57a41d89f1",
   "metadata": {},
   "outputs": [],
   "source": [
    "import serial\n",
    "import time"
   ]
  },
  {
   "cell_type": "markdown",
   "id": "2a2f8d7e-867d-4a57-b13f-a7130306571c",
   "metadata": {},
   "source": [
    "# Function to send an AT command to check connection"
   ]
  },
  {
   "cell_type": "code",
   "execution_count": null,
   "id": "359c8c8f-4179-4a9a-a2b5-7debd430ea8a",
   "metadata": {},
   "outputs": [],
   "source": [
    "def check_connection():\n",
    "    ser.write(b'AT\\r\\n')\n",
    "    time.sleep(1)\n",
    "    response = ser.read(ser.inWaiting()).decode()\n",
    "    if \"OK\" in response:\n",
    "        print(\"Connection is OK.\")\n",
    "    else:\n",
    "        print(\"Connection is not OK.\")"
   ]
  },
  {
   "cell_type": "markdown",
   "id": "93276125-6261-4bd8-bc97-c17b64ad70c8",
   "metadata": {},
   "source": [
    "# Main code"
   ]
  },
  {
   "cell_type": "code",
   "execution_count": null,
   "id": "55b86065-4e38-4403-9b9f-a182a05e4634",
   "metadata": {},
   "outputs": [
    {
     "name": "stdout",
     "output_type": "stream",
     "text": [
      "Connection is OK.\n"
     ]
    }
   ],
   "source": [
    "if __name__ == \"__main__\":\n",
    "    # Open serial connection to the A9G module\n",
    "    ser = serial.Serial('COM5', 115200, timeout=1)\n",
    "\n",
    "    # Wait for the module to initialize\n",
    "    time.sleep(2)\n",
    "\n",
    "    # Check connection\n",
    "    check_connection()\n",
    "\n",
    "    # Close serial connection\n",
    "    ser.close()"
   ]
  },
  {
   "cell_type": "code",
   "execution_count": null,
   "id": "9a4049d6-1405-4b64-934f-34d846b6869d",
   "metadata": {},
   "outputs": [],
   "source": []
  }
 ],
 "metadata": {
  "kernelspec": {
   "display_name": "Python 3 (ipykernel)",
   "language": "python",
   "name": "python3"
  },
  "language_info": {
   "codemirror_mode": {
    "name": "ipython",
    "version": 3
   },
   "file_extension": ".py",
   "mimetype": "text/x-python",
   "name": "python",
   "nbconvert_exporter": "python",
   "pygments_lexer": "ipython3",
   "version": "3.12.2"
  }
 },
 "nbformat": 4,
 "nbformat_minor": 5
}
