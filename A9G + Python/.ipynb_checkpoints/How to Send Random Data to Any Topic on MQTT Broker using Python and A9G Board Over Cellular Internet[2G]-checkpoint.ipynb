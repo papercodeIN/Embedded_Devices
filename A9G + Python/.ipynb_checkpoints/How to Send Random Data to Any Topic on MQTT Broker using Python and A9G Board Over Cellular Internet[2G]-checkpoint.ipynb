{
 "cells": [
  {
   "cell_type": "code",
   "execution_count": 5,
   "id": "4a0ce71b-10fe-48d0-8c4b-808fdc8822f9",
   "metadata": {},
   "outputs": [],
   "source": [
    "import serial\n",
    "import time\n",
    "import random"
   ]
  },
  {
   "cell_type": "code",
   "execution_count": 6,
   "id": "8ab401b6-9b88-4958-aa03-d30ffbccb47f",
   "metadata": {},
   "outputs": [],
   "source": [
    "# MQTT broker details\n",
    "mqtt_host = \"0.tcp.in.ngrok.io\"\n",
    "mqtt_port = \"19731\"\n",
    "mqtt_user = \"\"\n",
    "mqtt_password = \"\"\n",
    "mqtt_topic = \"Test\"  # Topic to publish messages"
   ]
  },
  {
   "cell_type": "markdown",
   "id": "5d9f38bc-3859-4e75-b2bb-70c74054794e",
   "metadata": {},
   "source": [
    "# Function to send AT command"
   ]
  },
  {
   "cell_type": "code",
   "execution_count": 7,
   "id": "daa2271f-f3d1-41a7-a376-f5e645858a3d",
   "metadata": {},
   "outputs": [],
   "source": [
    "def send_command(command):\n",
    "    ser.write((command + '\\r\\n').encode())\n",
    "    time.sleep(1)\n",
    "    response = ser.read(ser.inWaiting()).decode()\n",
    "    #print(\"Response:\", response)  # Print response for debugging\n",
    "    return response"
   ]
  },
  {
   "cell_type": "markdown",
   "id": "cae44994-fc10-478e-8c59-56751bb02b38",
   "metadata": {},
   "source": [
    "# Function to connect to MQTT broker"
   ]
  },
  {
   "cell_type": "code",
   "execution_count": 8,
   "id": "234aafc1-457b-48c3-abb8-86d66af81761",
   "metadata": {},
   "outputs": [],
   "source": [
    "def connect_to_mqtt(host, port, user, password):\n",
    "    send_command('AT+CGATT=1')\n",
    "    send_command('AT+CGDCONT=1,\"IP\",\"CMNET\"')\n",
    "    send_command('AT+CGACT=1,1')\n",
    "    command = 'AT+MQTTCONN=\"{}\",{},12345,120,0,\"{}\",\"{}\"'.format(host, port, user, password)\n",
    "    send_command(command)"
   ]
  },
  {
   "cell_type": "markdown",
   "id": "9acddb83-d3ed-4759-95db-3b5a0f646889",
   "metadata": {},
   "source": [
    "# Function to publish message to MQTT broker"
   ]
  },
  {
   "cell_type": "code",
   "execution_count": 9,
   "id": "ffcda927-1534-4c6c-935b-265b02afea2f",
   "metadata": {},
   "outputs": [],
   "source": [
    "def publish_message(topic, message):\n",
    "    command = 'AT+MQTTPUB=\"{}\",\"{}\",0,0,0'.format(topic, message)\n",
    "    send_command(command)"
   ]
  },
  {
   "cell_type": "markdown",
   "id": "86ac1bba-0ee4-40ed-8a37-a8a473eccbe7",
   "metadata": {},
   "source": [
    "# Function to disconnect from MQTT broker"
   ]
  },
  {
   "cell_type": "code",
   "execution_count": 10,
   "id": "ec02fede-f35f-434a-b735-1cd60500ede9",
   "metadata": {},
   "outputs": [],
   "source": [
    "def disconnect_mqtt():\n",
    "    send_command('AT+MQTTDISCONN')"
   ]
  },
  {
   "cell_type": "markdown",
   "id": "49f36154-d851-4ca5-9084-b82e82007795",
   "metadata": {},
   "source": [
    "# Main code"
   ]
  },
  {
   "cell_type": "code",
   "execution_count": 11,
   "id": "4205993d-9ad2-489e-8c94-97f0487fa358",
   "metadata": {},
   "outputs": [
    {
     "name": "stdout",
     "output_type": "stream",
     "text": [
      "Connecting to MQTT broker...\n",
      "Connected to MQTT broker\n",
      "Publishing value: 9\n",
      "Published value: 9\n",
      "Publishing value: 63\n",
      "Published value: 63\n",
      "Publishing value: 54\n",
      "Published value: 54\n",
      "Publishing value: 99\n",
      "Published value: 99\n",
      "Publishing value: 28\n",
      "Published value: 28\n",
      "Publishing value: 38\n",
      "Published value: 38\n",
      "Publishing value: 3\n",
      "Published value: 3\n",
      "Publishing value: 12\n",
      "Published value: 12\n",
      "Publishing value: 45\n",
      "Published value: 45\n",
      "Publishing value: 70\n",
      "Published value: 70\n",
      "Publishing value: 40\n",
      "Published value: 40\n",
      "Publishing value: 88\n",
      "Published value: 88\n",
      "Publishing value: 51\n",
      "Published value: 51\n",
      "Publishing value: 22\n",
      "Published value: 22\n",
      "Publishing value: 72\n",
      "Published value: 72\n",
      "Publishing value: 78\n",
      "Published value: 78\n",
      "Publishing value: 48\n",
      "Published value: 48\n",
      "Publishing value: 16\n",
      "Published value: 16\n",
      "Publishing value: 33\n",
      "Published value: 33\n",
      "Publishing value: 8\n",
      "Published value: 8\n",
      "Publishing value: 48\n",
      "Published value: 48\n",
      "Publishing value: 14\n",
      "Published value: 14\n",
      "Publishing value: 61\n",
      "Published value: 61\n",
      "Publishing value: 52\n",
      "Published value: 52\n",
      "Publishing value: 30\n",
      "Published value: 30\n",
      "Publishing value: 11\n",
      "Published value: 11\n",
      "Publishing value: 85\n",
      "Published value: 85\n",
      "Publishing value: 62\n",
      "Published value: 62\n",
      "Publishing value: 38\n",
      "Published value: 38\n",
      "Publishing value: 25\n",
      "Published value: 25\n",
      "Publishing value: 55\n",
      "Published value: 55\n",
      "Publishing value: 96\n",
      "Published value: 96\n",
      "Publishing value: 48\n",
      "Published value: 48\n",
      "Publishing value: 2\n",
      "Published value: 2\n",
      "Publishing value: 42\n",
      "Published value: 42\n",
      "Publishing value: 91\n",
      "Published value: 91\n",
      "Publishing value: 49\n",
      "Published value: 49\n",
      "Publishing value: 26\n",
      "Published value: 26\n",
      "Publishing value: 68\n",
      "Published value: 68\n",
      "Publishing value: 56\n",
      "Disconnecting from MQTT broker...\n",
      "Disconnected from MQTT broker\n"
     ]
    }
   ],
   "source": [
    "if __name__ == \"__main__\":\n",
    "    # Open serial connection to the A9G module\n",
    "    ser = serial.Serial('COM5', 115200, timeout=1)\n",
    "\n",
    "    # Wait for the module to initialize\n",
    "    time.sleep(2)\n",
    "\n",
    "    # Connect to MQTT broker\n",
    "    print(\"Connecting to MQTT broker...\")\n",
    "    connect_to_mqtt(mqtt_host, mqtt_port, mqtt_user, mqtt_password)\n",
    "    print(\"Connected to MQTT broker\")\n",
    "\n",
    "    try:\n",
    "        while True:\n",
    "            # Generate random value to publish\n",
    "            random_value = random.randint(0, 100)\n",
    "            # Publish random value to MQTT broker\n",
    "            print(\"Publishing value:\", random_value)\n",
    "            publish_message(mqtt_topic, str(random_value))\n",
    "            print(\"Published value:\", random_value)\n",
    "            time.sleep(5)  # Publish every 5 seconds\n",
    "\n",
    "    except KeyboardInterrupt:\n",
    "        print(\"Disconnecting from MQTT broker...\")\n",
    "        # Disconnect from MQTT broker\n",
    "        disconnect_mqtt()\n",
    "        print(\"Disconnected from MQTT broker\")\n",
    "\n",
    "    # Close serial connection\n",
    "    ser.close()"
   ]
  },
  {
   "cell_type": "code",
   "execution_count": null,
   "id": "dcad942e-0dfa-4518-ab9a-2c2737fedc3e",
   "metadata": {},
   "outputs": [],
   "source": []
  }
 ],
 "metadata": {
  "kernelspec": {
   "display_name": "Python 3 (ipykernel)",
   "language": "python",
   "name": "python3"
  },
  "language_info": {
   "codemirror_mode": {
    "name": "ipython",
    "version": 3
   },
   "file_extension": ".py",
   "mimetype": "text/x-python",
   "name": "python",
   "nbconvert_exporter": "python",
   "pygments_lexer": "ipython3",
   "version": "3.12.2"
  }
 },
 "nbformat": 4,
 "nbformat_minor": 5
}
