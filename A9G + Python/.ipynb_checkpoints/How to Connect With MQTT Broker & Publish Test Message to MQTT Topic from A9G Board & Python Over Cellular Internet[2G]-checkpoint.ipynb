{
 "cells": [
  {
   "cell_type": "code",
   "execution_count": null,
   "id": "1c70b1ff-6129-4374-b88f-0cd409e6b17e",
   "metadata": {},
   "outputs": [],
   "source": [
    "import serial\n",
    "import time"
   ]
  },
  {
   "cell_type": "markdown",
   "id": "0f1ac791-8fd8-4383-b1a3-22ca8a76500c",
   "metadata": {},
   "source": [
    "# Function to send AT command"
   ]
  },
  {
   "cell_type": "code",
   "execution_count": null,
   "id": "fa36ea6e-c70f-421d-a642-0304a486f05b",
   "metadata": {},
   "outputs": [],
   "source": [
    "def send_command(command):\n",
    "    ser.write((command + '\\r\\n').encode())\n",
    "    time.sleep(1)\n",
    "    response = ser.read(ser.inWaiting()).decode()\n",
    "    return response"
   ]
  },
  {
   "cell_type": "markdown",
   "id": "aedeeb34-5b4d-4591-b9ee-89505fa4548f",
   "metadata": {},
   "source": [
    "# Function to connect to MQTT broker"
   ]
  },
  {
   "cell_type": "code",
   "execution_count": null,
   "id": "1c009f79-a477-45e5-8b38-96ac406eb7d0",
   "metadata": {},
   "outputs": [],
   "source": [
    "def connect_to_mqtt(host, port, user, password):\n",
    "    send_command('AT+CGATT=1')\n",
    "    send_command('AT+CGDCONT=1,\"IP\",\"CMNET\"')\n",
    "    send_command('AT+CGACT=1,1')\n",
    "    command = 'AT+MQTTCONN=\"{}\",{},12345,120,0,\"{}\",\"{}\"'.format(host, port, user, password)\n",
    "    send_command(command)"
   ]
  },
  {
   "cell_type": "markdown",
   "id": "32cf2ff3-6777-4adc-a208-e83a1b83eb9c",
   "metadata": {},
   "source": [
    "# Function to publish message to MQTT broker"
   ]
  },
  {
   "cell_type": "code",
   "execution_count": null,
   "id": "3c1dcc62-81c8-46e9-b331-e05cdca7b98c",
   "metadata": {},
   "outputs": [],
   "source": [
    "def publish_message(topic, message):\n",
    "    command = 'AT+MQTTPUB=\"{}\",\"{}\",0,0,0'.format(topic, message)\n",
    "    send_command(command)"
   ]
  },
  {
   "cell_type": "markdown",
   "id": "0aed03fa-8ead-47af-ba5f-5994e4add0c5",
   "metadata": {},
   "source": [
    "# Function to disconnect from MQTT broker"
   ]
  },
  {
   "cell_type": "code",
   "execution_count": null,
   "id": "612e4064-6c25-4c4a-b5ea-e08920ca3227",
   "metadata": {},
   "outputs": [],
   "source": [
    "def disconnect_mqtt():\n",
    "    send_command('AT+MQTTDISCONN')"
   ]
  },
  {
   "cell_type": "markdown",
   "id": "1ce3c457-e384-43a3-a129-5258397a47c4",
   "metadata": {},
   "source": [
    "# Main code"
   ]
  },
  {
   "cell_type": "code",
   "execution_count": null,
   "id": "04385509-5e83-4557-b6df-4027880fe69a",
   "metadata": {},
   "outputs": [],
   "source": [
    "if __name__ == \"__main__\":\n",
    "    # Open serial connection to the A9G module\n",
    "    ser = serial.Serial('COM5', 115200, timeout=1)\n",
    "\n",
    "    # Wait for the module to initialize\n",
    "    time.sleep(2)\n",
    "\n",
    "    try:\n",
    "        # MQTT broker details\n",
    "        mqtt_host = \"0.tcp.in.ngrok.io\"\n",
    "        mqtt_port = \"19731\"\n",
    "        mqtt_user = \"\"\n",
    "        mqtt_password = \"\"\n",
    "        mqtt_topic = \"Test\"  # Topic to publish messages\n",
    "\n",
    "        # Connect to MQTT broker\n",
    "        print(\"Connecting to MQTT broker...\")\n",
    "        connect_to_mqtt(mqtt_host, mqtt_port, mqtt_user, mqtt_password)\n",
    "        print(\"Connected to MQTT broker\")\n",
    "\n",
    "        # Publish test message\n",
    "        print(\"Publishing test message...\")\n",
    "        publish_message(mqtt_topic, \"This is a test message\")\n",
    "        print(\"Test message published\")\n",
    "\n",
    "        # Disconnect from MQTT broker\n",
    "        print(\"Disconnecting from MQTT broker...\")\n",
    "        disconnect_mqtt()\n",
    "        print(\"Disconnected from MQTT broker\")\n",
    "\n",
    "    except Exception as e:\n",
    "        print(\"An error occurred:\", e)\n",
    "\n",
    "    # Close serial connection\n",
    "    ser.close()"
   ]
  }
 ],
 "metadata": {
  "kernelspec": {
   "display_name": "Python 3 (ipykernel)",
   "language": "python",
   "name": "python3"
  },
  "language_info": {
   "codemirror_mode": {
    "name": "ipython",
    "version": 3
   },
   "file_extension": ".py",
   "mimetype": "text/x-python",
   "name": "python",
   "nbconvert_exporter": "python",
   "pygments_lexer": "ipython3",
   "version": "3.12.2"
  }
 },
 "nbformat": 4,
 "nbformat_minor": 5
}
