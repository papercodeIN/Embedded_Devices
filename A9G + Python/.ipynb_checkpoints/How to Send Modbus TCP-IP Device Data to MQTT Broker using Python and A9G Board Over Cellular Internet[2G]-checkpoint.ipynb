{
 "cells": [
  {
   "cell_type": "code",
   "execution_count": 1,
   "id": "ea6d6ab6-2fe6-4207-8ac9-6805a517ab3a",
   "metadata": {
    "scrolled": true
   },
   "outputs": [],
   "source": [
    "import serial\n",
    "import time\n",
    "from pymodbus.client import ModbusTcpClient\n",
    "import json"
   ]
  },
  {
   "cell_type": "code",
   "execution_count": 2,
   "id": "e9e04170-91e9-4abc-a925-c9d8c40822f8",
   "metadata": {},
   "outputs": [],
   "source": [
    "# MQTT broker details\n",
    "mqtt_host = \"0.tcp.in.ngrok.io\"\n",
    "mqtt_port = \"19731\"\n",
    "mqtt_user = \"\"\n",
    "mqtt_password = \"\"\n",
    "master_topic = \"Modbus Data\"  # Topic to publish messages"
   ]
  },
  {
   "cell_type": "code",
   "execution_count": 3,
   "id": "f6425e9a-58ae-4c12-8784-3dcc14022b10",
   "metadata": {
    "scrolled": true
   },
   "outputs": [],
   "source": [
    "# Function to send AT command\n",
    "def send_command(command):\n",
    "    ser.write((command + '\\r\\n').encode())\n",
    "    time.sleep(1)\n",
    "    response = ser.read(ser.inWaiting()).decode()\n",
    "    return response"
   ]
  },
  {
   "cell_type": "code",
   "execution_count": 4,
   "id": "6c2a4bfd-5f22-4d35-8c94-0b519ab31f6a",
   "metadata": {
    "scrolled": true
   },
   "outputs": [],
   "source": [
    "# Function to connect to MQTT broker\n",
    "def connect_to_mqtt(host, port, user, password):\n",
    "    command = 'AT+CGATT=1'\n",
    "    send_command(command)\n",
    "    command = 'AT+CGDCONT=1,\"IP\",\"CMNET\"'\n",
    "    send_command(command)\n",
    "    command = 'AT+CGACT=1,1'\n",
    "    send_command(command)\n",
    "    # Connect to MQTT broker using A9G board\n",
    "    command = 'AT+MQTTCONN=\"{}\",{},12345,120,0,\"{}\",\"{}\"'.format(host, port, user, password)\n",
    "    send_command(command)"
   ]
  },
  {
   "cell_type": "code",
   "execution_count": 5,
   "id": "78d2da8a-eb42-486d-8e4e-e80d099da285",
   "metadata": {
    "scrolled": true
   },
   "outputs": [],
   "source": [
    "# Function to publish message to MQTT broker\n",
    "def publish_to_mqtt(topic, message):\n",
    "    command = 'AT+MQTTPUB=\"{}\",\"{}\",0,0,0'.format(topic, message)\n",
    "    send_command(command)"
   ]
  },
  {
   "cell_type": "code",
   "execution_count": 6,
   "id": "5bce773f-a25d-4fe3-b0c1-0cc7e4022be4",
   "metadata": {
    "scrolled": true
   },
   "outputs": [],
   "source": [
    "# Function to read holding register values from Modbus TCP device\n",
    "def read_modbus_values(ip, port, address, count):\n",
    "    client = ModbusTcpClient(ip, port)\n",
    "    client.connect()\n",
    "    result = client.read_holding_registers(address, count)\n",
    "    client.close()\n",
    "    return result.registers if hasattr(result, 'registers') else None"
   ]
  },
  {
   "attachments": {
    "7942c2d2-639d-462b-a308-4086cb8f9bda.png": {
     "image/png": "[encoded data removed]"
    }
   },
   "cell_type": "markdown",
   "id": "7f93a2f4-acc9-4cd7-a327-5203c816558a",
   "metadata": {},
   "source": [
    "# Main code to Publish data in below format\n",
    "![image.png](attachment:7942c2d2-639d-462b-a308-4086cb8f9bda.png)"
   ]
  },
  {
   "cell_type": "code",
   "execution_count": 7,
   "id": "9ea9b293-c89a-4a71-a5fb-0552076939bd",
   "metadata": {
    "scrolled": true
   },
   "outputs": [
    {
     "name": "stdout",
     "output_type": "stream",
     "text": [
      "Published value 0 to topic: Modbus Data/0\n",
      "Published value 0 to topic: Modbus Data/1\n",
      "Published value 0 to topic: Modbus Data/2\n",
      "Published value 0 to topic: Modbus Data/3\n",
      "Published value 0 to topic: Modbus Data/4\n",
      "Published value 0 to topic: Modbus Data/5\n",
      "Published value 0 to topic: Modbus Data/6\n",
      "Published value 0 to topic: Modbus Data/7\n",
      "Published value 0 to topic: Modbus Data/8\n",
      "Published value 0 to topic: Modbus Data/9\n",
      "Published value 5 to topic: Modbus Data/0\n",
      "Published value 0 to topic: Modbus Data/1\n",
      "Published value 2 to topic: Modbus Data/2\n",
      "Published value 0 to topic: Modbus Data/3\n",
      "Published value 0 to topic: Modbus Data/4\n",
      "Published value 0 to topic: Modbus Data/5\n",
      "Published value 0 to topic: Modbus Data/6\n",
      "Published value 0 to topic: Modbus Data/7\n",
      "Published value 0 to topic: Modbus Data/8\n",
      "Published value 0 to topic: Modbus Data/9\n",
      "Published value 25 to topic: Modbus Data/0\n",
      "Published value 0 to topic: Modbus Data/1\n",
      "Published value 22 to topic: Modbus Data/2\n",
      "Published value 0 to topic: Modbus Data/3\n",
      "Published value 18 to topic: Modbus Data/4\n",
      "Published value 0 to topic: Modbus Data/5\n",
      "Published value 16 to topic: Modbus Data/6\n",
      "Published value 0 to topic: Modbus Data/7\n",
      "Published value 14 to topic: Modbus Data/8\n",
      "Published value 0 to topic: Modbus Data/9\n",
      "Published value 45 to topic: Modbus Data/0\n",
      "Published value 0 to topic: Modbus Data/1\n",
      "Published value 42 to topic: Modbus Data/2\n",
      "Published value 0 to topic: Modbus Data/3\n",
      "Published value 38 to topic: Modbus Data/4\n",
      "Published value 0 to topic: Modbus Data/5\n",
      "Published value 36 to topic: Modbus Data/6\n",
      "Published value 0 to topic: Modbus Data/7\n",
      "Published value 34 to topic: Modbus Data/8\n",
      "Published value 0 to topic: Modbus Data/9\n",
      "Published value 65 to topic: Modbus Data/0\n",
      "Published value 0 to topic: Modbus Data/1\n",
      "Published value 62 to topic: Modbus Data/2\n",
      "Published value 0 to topic: Modbus Data/3\n",
      "Published value 58 to topic: Modbus Data/4\n",
      "Published value 0 to topic: Modbus Data/5\n",
      "Published value 56 to topic: Modbus Data/6\n",
      "Published value 0 to topic: Modbus Data/7\n",
      "Published value 54 to topic: Modbus Data/8\n",
      "Published value 0 to topic: Modbus Data/9\n",
      "Published value 85 to topic: Modbus Data/0\n",
      "Published value 0 to topic: Modbus Data/1\n",
      "Published value 82 to topic: Modbus Data/2\n",
      "Published value 0 to topic: Modbus Data/3\n",
      "Published value 78 to topic: Modbus Data/4\n",
      "Published value 0 to topic: Modbus Data/5\n",
      "Exiting program.\n"
     ]
    }
   ],
   "source": [
    "if __name__ == \"__main__\":\n",
    "    # Open serial connection to the A9G module\n",
    "    ser = serial.Serial('COM5', 115200, timeout=1)\n",
    "\n",
    "    # Wait for the module to initialize\n",
    "    time.sleep(2)\n",
    "\n",
    "    try:\n",
    "\n",
    "        # Connect to MQTT broker using A9G board\n",
    "        connect_to_mqtt(mqtt_host, mqtt_port, mqtt_user, mqtt_password)\n",
    "\n",
    "        # Modbus TCP device details\n",
    "        modbus_ip = \"127.0.0.1\"\n",
    "        modbus_port = 502\n",
    "        holding_register_count = 10\n",
    "\n",
    "        while True:\n",
    "            # Read holding register values from Modbus TCP device\n",
    "            values = read_modbus_values(modbus_ip, modbus_port, 0, holding_register_count)\n",
    "\n",
    "            # Publish values to MQTT broker\n",
    "            for i, value in enumerate(values):\n",
    "                topic = \"{}/{}\".format(master_topic, i)\n",
    "                publish_to_mqtt(topic, str(value))\n",
    "                print(\"Published value {} to topic: {}\".format(value, topic))\n",
    "\n",
    "            time.sleep(10)  # Read and publish values every 10 seconds\n",
    "\n",
    "    except KeyboardInterrupt:\n",
    "        print(\"Exiting program.\")\n",
    "\n",
    "    # Close serial connection\n",
    "    ser.close()"
   ]
  },
  {
   "attachments": {
    "feab782a-c675-4a7c-9d07-0f4ee73f5fb6.png": {
     "image/png": "[encoded data removed]"
    }
   },
   "cell_type": "markdown",
   "id": "b1a3b375-9bed-4487-bcde-02c3e0929fa2",
   "metadata": {},
   "source": [
    "# Main code to publish data in below format\n",
    "![image.png](attachment:feab782a-c675-4a7c-9d07-0f4ee73f5fb6.png)"
   ]
  },
  {
   "cell_type": "code",
   "execution_count": 8,
   "id": "29f478b4-4ce4-4462-8a6a-e577644ba262",
   "metadata": {},
   "outputs": [
    {
     "name": "stdout",
     "output_type": "stream",
     "text": [
      "Published message: 154,0,151,0,147,0,145,0,143,0 to topic: Modbus Data\n",
      "Published message: 156,0,153,0,149,0,147,0,145,0 to topic: Modbus Data\n",
      "Published message: 158,0,155,0,151,0,149,0,147,0 to topic: Modbus Data\n",
      "Published message: 160,0,157,0,153,0,151,0,149,0 to topic: Modbus Data\n",
      "Published message: 162,0,159,0,155,0,153,0,151,0 to topic: Modbus Data\n",
      "Published message: 164,0,161,0,157,0,155,0,153,0 to topic: Modbus Data\n",
      "Published message: 166,0,163,0,159,0,157,0,155,0 to topic: Modbus Data\n",
      "Published message: 168,0,165,0,161,0,159,0,157,0 to topic: Modbus Data\n",
      "Published message: 170,0,167,0,163,0,161,0,159,0 to topic: Modbus Data\n",
      "Published message: 172,0,169,0,165,0,163,0,161,0 to topic: Modbus Data\n",
      "Published message: 174,0,171,0,167,0,165,0,163,0 to topic: Modbus Data\n",
      "Published message: 176,0,173,0,169,0,167,0,165,0 to topic: Modbus Data\n",
      "Published message: 178,0,175,0,171,0,169,0,167,0 to topic: Modbus Data\n",
      "Published message: 180,0,177,0,173,0,171,0,169,0 to topic: Modbus Data\n",
      "Published message: 182,0,179,0,175,0,173,0,171,0 to topic: Modbus Data\n",
      "Published message: 184,0,181,0,177,0,175,0,173,0 to topic: Modbus Data\n",
      "Published message: 186,2,183,0,179,0,177,0,175,0 to topic: Modbus Data\n",
      "Published message: 188,4,185,0,181,0,179,0,177,0 to topic: Modbus Data\n",
      "Published message: 190,6,187,0,183,0,181,0,179,0 to topic: Modbus Data\n",
      "Published message: 192,8,189,0,185,0,183,0,181,0 to topic: Modbus Data\n",
      "Published message: 194,10,191,0,187,0,185,0,183,0 to topic: Modbus Data\n",
      "Published message: 196,12,193,0,189,0,187,0,185,0 to topic: Modbus Data\n",
      "Published message: 198,14,195,0,191,0,189,0,187,0 to topic: Modbus Data\n",
      "Published message: 200,16,197,0,193,0,191,0,189,0 to topic: Modbus Data\n",
      "Published message: 202,18,199,0,195,0,193,0,191,0 to topic: Modbus Data\n",
      "Published message: 204,20,201,0,197,0,195,0,193,0 to topic: Modbus Data\n",
      "Published message: 206,22,203,0,199,0,197,0,195,0 to topic: Modbus Data\n",
      "Published message: 208,24,205,0,201,0,199,0,197,0 to topic: Modbus Data\n",
      "Published message: 210,26,207,0,203,0,201,0,199,0 to topic: Modbus Data\n",
      "Published message: 212,28,209,0,205,0,203,0,201,0 to topic: Modbus Data\n",
      "Published message: 214,30,211,0,207,0,205,0,203,0 to topic: Modbus Data\n",
      "Published message: 216,32,213,0,209,0,207,0,205,0 to topic: Modbus Data\n",
      "Published message: 218,34,215,0,211,0,209,0,207,0 to topic: Modbus Data\n",
      "Published message: 220,36,217,0,213,0,211,0,209,0 to topic: Modbus Data\n",
      "Published message: 222,38,219,0,215,0,213,0,211,0 to topic: Modbus Data\n",
      "Published message: 224,40,221,0,217,0,215,0,213,0 to topic: Modbus Data\n",
      "Published message: 226,42,223,0,219,0,217,0,215,0 to topic: Modbus Data\n",
      "Exiting program.\n"
     ]
    }
   ],
   "source": [
    "if __name__ == \"__main__\":\n",
    "    # Open serial connection to the A9G module\n",
    "    ser = serial.Serial('COM5', 115200, timeout=1)\n",
    "\n",
    "    # Wait for the module to initialize\n",
    "    time.sleep(2)\n",
    "\n",
    "    try:\n",
    "        # Connect to MQTT broker using A9G board\n",
    "        connect_to_mqtt(mqtt_host, mqtt_port, mqtt_user, mqtt_password)\n",
    "\n",
    "        # Modbus TCP device details\n",
    "        modbus_ip = \"127.0.0.1\"\n",
    "        modbus_port = 502\n",
    "        holding_register_count = 10\n",
    "\n",
    "        while True:\n",
    "            # Read holding register values from Modbus TCP device\n",
    "            values = read_modbus_values(modbus_ip, modbus_port, 0, holding_register_count)\n",
    "\n",
    "            # Construct message containing all values\n",
    "            message = ','.join(map(str, values))\n",
    "\n",
    "            # Publish message to MQTT broker\n",
    "            publish_to_mqtt(master_topic, message)\n",
    "            print(\"Published message: {} to topic: {}\".format(message, master_topic))\n",
    "\n",
    "            time.sleep(1)  # Read and publish values every 10 seconds\n",
    "\n",
    "    except KeyboardInterrupt:\n",
    "        print(\"Exiting program.\")\n",
    "\n",
    "    # Close serial connection\n",
    "    ser.close()"
   ]
  },
  {
   "cell_type": "markdown",
   "id": "34b07313-2db3-40e6-8522-28e8838e16d3",
   "metadata": {},
   "source": [
    "# Main code to Publish Data in below Format\n",
    "\n",
    "{'Register_0': 1431, 'Register_1': 0, 'Register_2': 0, 'Register_3': 1424, 'Register_4': 0, 'Register_5': 1426, 'Register_6': 0, 'Register_7': 0, 'Register_8': 0, 'Register_9': 1428}"
   ]
  },
  {
   "cell_type": "code",
   "execution_count": 10,
   "id": "cfa27e61-fb9c-4c98-8604-98e31d7059f1",
   "metadata": {},
   "outputs": [
    {
     "name": "stdout",
     "output_type": "stream",
     "text": [
      "Published message: {\"Register_0\": 279, \"Register_1\": 95, \"Register_2\": 276, \"Register_3\": 0, \"Register_4\": 272, \"Register_5\": 0, \"Register_6\": 270, \"Register_7\": 0, \"Register_8\": 268, \"Register_9\": 0} to topic: Modbus Data\n",
      "Published message: {\"Register_0\": 282, \"Register_1\": 98, \"Register_2\": 279, \"Register_3\": 0, \"Register_4\": 275, \"Register_5\": 0, \"Register_6\": 273, \"Register_7\": 0, \"Register_8\": 271, \"Register_9\": 0} to topic: Modbus Data\n",
      "Published message: {\"Register_0\": 285, \"Register_1\": 101, \"Register_2\": 282, \"Register_3\": 0, \"Register_4\": 278, \"Register_5\": 0, \"Register_6\": 276, \"Register_7\": 0, \"Register_8\": 274, \"Register_9\": 0} to topic: Modbus Data\n",
      "Published message: {\"Register_0\": 288, \"Register_1\": 104, \"Register_2\": 285, \"Register_3\": 0, \"Register_4\": 281, \"Register_5\": 0, \"Register_6\": 279, \"Register_7\": 0, \"Register_8\": 277, \"Register_9\": 0} to topic: Modbus Data\n",
      "Published message: {\"Register_0\": 291, \"Register_1\": 107, \"Register_2\": 288, \"Register_3\": 0, \"Register_4\": 284, \"Register_5\": 0, \"Register_6\": 282, \"Register_7\": 0, \"Register_8\": 280, \"Register_9\": 0} to topic: Modbus Data\n",
      "Published message: {\"Register_0\": 294, \"Register_1\": 110, \"Register_2\": 291, \"Register_3\": 0, \"Register_4\": 287, \"Register_5\": 0, \"Register_6\": 285, \"Register_7\": 0, \"Register_8\": 283, \"Register_9\": 0} to topic: Modbus Data\n",
      "Published message: {\"Register_0\": 297, \"Register_1\": 113, \"Register_2\": 294, \"Register_3\": 0, \"Register_4\": 290, \"Register_5\": 0, \"Register_6\": 288, \"Register_7\": 0, \"Register_8\": 286, \"Register_9\": 0} to topic: Modbus Data\n",
      "Published message: {\"Register_0\": 300, \"Register_1\": 116, \"Register_2\": 297, \"Register_3\": 0, \"Register_4\": 293, \"Register_5\": 0, \"Register_6\": 291, \"Register_7\": 0, \"Register_8\": 289, \"Register_9\": 0} to topic: Modbus Data\n",
      "Published message: {\"Register_0\": 303, \"Register_1\": 119, \"Register_2\": 300, \"Register_3\": 0, \"Register_4\": 296, \"Register_5\": 0, \"Register_6\": 294, \"Register_7\": 0, \"Register_8\": 292, \"Register_9\": 0} to topic: Modbus Data\n",
      "Published message: {\"Register_0\": 306, \"Register_1\": 122, \"Register_2\": 303, \"Register_3\": 0, \"Register_4\": 299, \"Register_5\": 0, \"Register_6\": 297, \"Register_7\": 0, \"Register_8\": 295, \"Register_9\": 0} to topic: Modbus Data\n",
      "Published message: {\"Register_0\": 309, \"Register_1\": 125, \"Register_2\": 306, \"Register_3\": 0, \"Register_4\": 302, \"Register_5\": 0, \"Register_6\": 300, \"Register_7\": 0, \"Register_8\": 298, \"Register_9\": 0} to topic: Modbus Data\n",
      "Published message: {\"Register_0\": 312, \"Register_1\": 128, \"Register_2\": 309, \"Register_3\": 0, \"Register_4\": 305, \"Register_5\": 0, \"Register_6\": 303, \"Register_7\": 0, \"Register_8\": 301, \"Register_9\": 0} to topic: Modbus Data\n",
      "Published message: {\"Register_0\": 315, \"Register_1\": 131, \"Register_2\": 312, \"Register_3\": 0, \"Register_4\": 308, \"Register_5\": 0, \"Register_6\": 306, \"Register_7\": 0, \"Register_8\": 304, \"Register_9\": 0} to topic: Modbus Data\n",
      "Published message: {\"Register_0\": 318, \"Register_1\": 134, \"Register_2\": 315, \"Register_3\": 0, \"Register_4\": 311, \"Register_5\": 0, \"Register_6\": 309, \"Register_7\": 0, \"Register_8\": 307, \"Register_9\": 0} to topic: Modbus Data\n",
      "Published message: {\"Register_0\": 321, \"Register_1\": 137, \"Register_2\": 318, \"Register_3\": 0, \"Register_4\": 314, \"Register_5\": 0, \"Register_6\": 312, \"Register_7\": 0, \"Register_8\": 310, \"Register_9\": 0} to topic: Modbus Data\n",
      "Published message: {\"Register_0\": 324, \"Register_1\": 140, \"Register_2\": 321, \"Register_3\": 0, \"Register_4\": 317, \"Register_5\": 0, \"Register_6\": 315, \"Register_7\": 0, \"Register_8\": 313, \"Register_9\": 0} to topic: Modbus Data\n",
      "Published message: {\"Register_0\": 327, \"Register_1\": 143, \"Register_2\": 324, \"Register_3\": 0, \"Register_4\": 320, \"Register_5\": 0, \"Register_6\": 318, \"Register_7\": 0, \"Register_8\": 316, \"Register_9\": 0} to topic: Modbus Data\n",
      "Published message: {\"Register_0\": 330, \"Register_1\": 146, \"Register_2\": 327, \"Register_3\": 0, \"Register_4\": 323, \"Register_5\": 0, \"Register_6\": 321, \"Register_7\": 0, \"Register_8\": 319, \"Register_9\": 0} to topic: Modbus Data\n",
      "Published message: {\"Register_0\": 333, \"Register_1\": 149, \"Register_2\": 330, \"Register_3\": 0, \"Register_4\": 326, \"Register_5\": 0, \"Register_6\": 324, \"Register_7\": 0, \"Register_8\": 322, \"Register_9\": 0} to topic: Modbus Data\n",
      "Published message: {\"Register_0\": 336, \"Register_1\": 152, \"Register_2\": 333, \"Register_3\": 0, \"Register_4\": 329, \"Register_5\": 0, \"Register_6\": 327, \"Register_7\": 0, \"Register_8\": 325, \"Register_9\": 0} to topic: Modbus Data\n",
      "Published message: {\"Register_0\": 339, \"Register_1\": 155, \"Register_2\": 336, \"Register_3\": 0, \"Register_4\": 332, \"Register_5\": 0, \"Register_6\": 330, \"Register_7\": 0, \"Register_8\": 328, \"Register_9\": 0} to topic: Modbus Data\n",
      "Published message: {\"Register_0\": 342, \"Register_1\": 158, \"Register_2\": 339, \"Register_3\": 0, \"Register_4\": 335, \"Register_5\": 0, \"Register_6\": 333, \"Register_7\": 0, \"Register_8\": 331, \"Register_9\": 0} to topic: Modbus Data\n",
      "Published message: {\"Register_0\": 345, \"Register_1\": 161, \"Register_2\": 342, \"Register_3\": 0, \"Register_4\": 338, \"Register_5\": 0, \"Register_6\": 336, \"Register_7\": 0, \"Register_8\": 334, \"Register_9\": 0} to topic: Modbus Data\n",
      "Published message: {\"Register_0\": 348, \"Register_1\": 164, \"Register_2\": 345, \"Register_3\": 0, \"Register_4\": 341, \"Register_5\": 0, \"Register_6\": 339, \"Register_7\": 0, \"Register_8\": 337, \"Register_9\": 0} to topic: Modbus Data\n",
      "Published message: {\"Register_0\": 351, \"Register_1\": 167, \"Register_2\": 348, \"Register_3\": 0, \"Register_4\": 344, \"Register_5\": 0, \"Register_6\": 342, \"Register_7\": 0, \"Register_8\": 340, \"Register_9\": 0} to topic: Modbus Data\n",
      "Published message: {\"Register_0\": 354, \"Register_1\": 170, \"Register_2\": 351, \"Register_3\": 0, \"Register_4\": 347, \"Register_5\": 0, \"Register_6\": 345, \"Register_7\": 0, \"Register_8\": 343, \"Register_9\": 0} to topic: Modbus Data\n",
      "Published message: {\"Register_0\": 357, \"Register_1\": 173, \"Register_2\": 354, \"Register_3\": 0, \"Register_4\": 350, \"Register_5\": 0, \"Register_6\": 348, \"Register_7\": 0, \"Register_8\": 346, \"Register_9\": 0} to topic: Modbus Data\n",
      "Published message: {\"Register_0\": 360, \"Register_1\": 176, \"Register_2\": 357, \"Register_3\": 0, \"Register_4\": 353, \"Register_5\": 0, \"Register_6\": 351, \"Register_7\": 0, \"Register_8\": 349, \"Register_9\": 0} to topic: Modbus Data\n",
      "Published message: {\"Register_0\": 363, \"Register_1\": 179, \"Register_2\": 360, \"Register_3\": 0, \"Register_4\": 356, \"Register_5\": 0, \"Register_6\": 354, \"Register_7\": 0, \"Register_8\": 352, \"Register_9\": 0} to topic: Modbus Data\n",
      "Published message: {\"Register_0\": 366, \"Register_1\": 182, \"Register_2\": 363, \"Register_3\": 0, \"Register_4\": 359, \"Register_5\": 0, \"Register_6\": 357, \"Register_7\": 0, \"Register_8\": 355, \"Register_9\": 0} to topic: Modbus Data\n",
      "Published message: {\"Register_0\": 369, \"Register_1\": 185, \"Register_2\": 366, \"Register_3\": 0, \"Register_4\": 362, \"Register_5\": 0, \"Register_6\": 360, \"Register_7\": 0, \"Register_8\": 358, \"Register_9\": 0} to topic: Modbus Data\n",
      "Published message: {\"Register_0\": 372, \"Register_1\": 188, \"Register_2\": 369, \"Register_3\": 0, \"Register_4\": 365, \"Register_5\": 0, \"Register_6\": 363, \"Register_7\": 0, \"Register_8\": 361, \"Register_9\": 0} to topic: Modbus Data\n",
      "Published message: {\"Register_0\": 375, \"Register_1\": 191, \"Register_2\": 372, \"Register_3\": 0, \"Register_4\": 368, \"Register_5\": 0, \"Register_6\": 366, \"Register_7\": 0, \"Register_8\": 364, \"Register_9\": 0} to topic: Modbus Data\n",
      "Published message: {\"Register_0\": 378, \"Register_1\": 194, \"Register_2\": 375, \"Register_3\": 0, \"Register_4\": 371, \"Register_5\": 0, \"Register_6\": 369, \"Register_7\": 0, \"Register_8\": 367, \"Register_9\": 0} to topic: Modbus Data\n",
      "Published message: {\"Register_0\": 381, \"Register_1\": 197, \"Register_2\": 378, \"Register_3\": 0, \"Register_4\": 374, \"Register_5\": 0, \"Register_6\": 372, \"Register_7\": 0, \"Register_8\": 370, \"Register_9\": 0} to topic: Modbus Data\n",
      "Published message: {\"Register_0\": 384, \"Register_1\": 200, \"Register_2\": 381, \"Register_3\": 0, \"Register_4\": 377, \"Register_5\": 0, \"Register_6\": 375, \"Register_7\": 0, \"Register_8\": 373, \"Register_9\": 0} to topic: Modbus Data\n",
      "Published message: {\"Register_0\": 387, \"Register_1\": 203, \"Register_2\": 384, \"Register_3\": 0, \"Register_4\": 380, \"Register_5\": 0, \"Register_6\": 378, \"Register_7\": 0, \"Register_8\": 376, \"Register_9\": 0} to topic: Modbus Data\n",
      "Published message: {\"Register_0\": 390, \"Register_1\": 206, \"Register_2\": 387, \"Register_3\": 0, \"Register_4\": 383, \"Register_5\": 0, \"Register_6\": 381, \"Register_7\": 0, \"Register_8\": 379, \"Register_9\": 0} to topic: Modbus Data\n",
      "Published message: {\"Register_0\": 393, \"Register_1\": 209, \"Register_2\": 390, \"Register_3\": 0, \"Register_4\": 386, \"Register_5\": 0, \"Register_6\": 384, \"Register_7\": 0, \"Register_8\": 382, \"Register_9\": 0} to topic: Modbus Data\n",
      "Published message: {\"Register_0\": 396, \"Register_1\": 212, \"Register_2\": 393, \"Register_3\": 0, \"Register_4\": 389, \"Register_5\": 0, \"Register_6\": 387, \"Register_7\": 0, \"Register_8\": 385, \"Register_9\": 0} to topic: Modbus Data\n",
      "Published message: {\"Register_0\": 399, \"Register_1\": 215, \"Register_2\": 396, \"Register_3\": 0, \"Register_4\": 392, \"Register_5\": 0, \"Register_6\": 390, \"Register_7\": 0, \"Register_8\": 388, \"Register_9\": 0} to topic: Modbus Data\n",
      "Published message: {\"Register_0\": 402, \"Register_1\": 218, \"Register_2\": 399, \"Register_3\": 0, \"Register_4\": 395, \"Register_5\": 0, \"Register_6\": 393, \"Register_7\": 0, \"Register_8\": 391, \"Register_9\": 0} to topic: Modbus Data\n",
      "Published message: {\"Register_0\": 405, \"Register_1\": 221, \"Register_2\": 402, \"Register_3\": 0, \"Register_4\": 398, \"Register_5\": 0, \"Register_6\": 396, \"Register_7\": 0, \"Register_8\": 394, \"Register_9\": 0} to topic: Modbus Data\n",
      "Published message: {\"Register_0\": 408, \"Register_1\": 224, \"Register_2\": 405, \"Register_3\": 0, \"Register_4\": 401, \"Register_5\": 0, \"Register_6\": 399, \"Register_7\": 0, \"Register_8\": 397, \"Register_9\": 0} to topic: Modbus Data\n",
      "Published message: {\"Register_0\": 411, \"Register_1\": 227, \"Register_2\": 408, \"Register_3\": 0, \"Register_4\": 404, \"Register_5\": 0, \"Register_6\": 402, \"Register_7\": 0, \"Register_8\": 400, \"Register_9\": 0} to topic: Modbus Data\n",
      "Published message: {\"Register_0\": 414, \"Register_1\": 230, \"Register_2\": 411, \"Register_3\": 0, \"Register_4\": 407, \"Register_5\": 0, \"Register_6\": 405, \"Register_7\": 0, \"Register_8\": 403, \"Register_9\": 0} to topic: Modbus Data\n",
      "Published message: {\"Register_0\": 417, \"Register_1\": 233, \"Register_2\": 414, \"Register_3\": 0, \"Register_4\": 410, \"Register_5\": 0, \"Register_6\": 408, \"Register_7\": 0, \"Register_8\": 406, \"Register_9\": 0} to topic: Modbus Data\n",
      "Published message: {\"Register_0\": 420, \"Register_1\": 236, \"Register_2\": 417, \"Register_3\": 0, \"Register_4\": 413, \"Register_5\": 0, \"Register_6\": 411, \"Register_7\": 0, \"Register_8\": 409, \"Register_9\": 0} to topic: Modbus Data\n",
      "Published message: {\"Register_0\": 423, \"Register_1\": 239, \"Register_2\": 420, \"Register_3\": 0, \"Register_4\": 416, \"Register_5\": 0, \"Register_6\": 414, \"Register_7\": 0, \"Register_8\": 412, \"Register_9\": 0} to topic: Modbus Data\n",
      "Published message: {\"Register_0\": 426, \"Register_1\": 242, \"Register_2\": 423, \"Register_3\": 0, \"Register_4\": 419, \"Register_5\": 0, \"Register_6\": 417, \"Register_7\": 0, \"Register_8\": 415, \"Register_9\": 0} to topic: Modbus Data\n",
      "Published message: {\"Register_0\": 429, \"Register_1\": 245, \"Register_2\": 426, \"Register_3\": 0, \"Register_4\": 422, \"Register_5\": 0, \"Register_6\": 420, \"Register_7\": 0, \"Register_8\": 418, \"Register_9\": 0} to topic: Modbus Data\n",
      "Published message: {\"Register_0\": 432, \"Register_1\": 248, \"Register_2\": 429, \"Register_3\": 0, \"Register_4\": 425, \"Register_5\": 0, \"Register_6\": 423, \"Register_7\": 0, \"Register_8\": 421, \"Register_9\": 0} to topic: Modbus Data\n",
      "Published message: {\"Register_0\": 435, \"Register_1\": 251, \"Register_2\": 432, \"Register_3\": 0, \"Register_4\": 428, \"Register_5\": 0, \"Register_6\": 426, \"Register_7\": 0, \"Register_8\": 424, \"Register_9\": 0} to topic: Modbus Data\n",
      "Published message: {\"Register_0\": 438, \"Register_1\": 254, \"Register_2\": 435, \"Register_3\": 0, \"Register_4\": 431, \"Register_5\": 0, \"Register_6\": 429, \"Register_7\": 0, \"Register_8\": 427, \"Register_9\": 0} to topic: Modbus Data\n",
      "Published message: {\"Register_0\": 441, \"Register_1\": 257, \"Register_2\": 438, \"Register_3\": 0, \"Register_4\": 434, \"Register_5\": 0, \"Register_6\": 432, \"Register_7\": 0, \"Register_8\": 430, \"Register_9\": 0} to topic: Modbus Data\n",
      "Published message: {\"Register_0\": 444, \"Register_1\": 260, \"Register_2\": 441, \"Register_3\": 0, \"Register_4\": 437, \"Register_5\": 0, \"Register_6\": 435, \"Register_7\": 0, \"Register_8\": 433, \"Register_9\": 0} to topic: Modbus Data\n",
      "Published message: {\"Register_0\": 447, \"Register_1\": 263, \"Register_2\": 444, \"Register_3\": 0, \"Register_4\": 440, \"Register_5\": 0, \"Register_6\": 438, \"Register_7\": 0, \"Register_8\": 436, \"Register_9\": 0} to topic: Modbus Data\n",
      "Published message: {\"Register_0\": 450, \"Register_1\": 266, \"Register_2\": 447, \"Register_3\": 0, \"Register_4\": 443, \"Register_5\": 0, \"Register_6\": 441, \"Register_7\": 0, \"Register_8\": 439, \"Register_9\": 0} to topic: Modbus Data\n",
      "Published message: {\"Register_0\": 453, \"Register_1\": 269, \"Register_2\": 450, \"Register_3\": 0, \"Register_4\": 446, \"Register_5\": 0, \"Register_6\": 444, \"Register_7\": 0, \"Register_8\": 442, \"Register_9\": 0} to topic: Modbus Data\n",
      "Published message: {\"Register_0\": 456, \"Register_1\": 272, \"Register_2\": 453, \"Register_3\": 0, \"Register_4\": 449, \"Register_5\": 0, \"Register_6\": 447, \"Register_7\": 0, \"Register_8\": 445, \"Register_9\": 0} to topic: Modbus Data\n",
      "Published message: {\"Register_0\": 459, \"Register_1\": 275, \"Register_2\": 456, \"Register_3\": 0, \"Register_4\": 452, \"Register_5\": 0, \"Register_6\": 450, \"Register_7\": 0, \"Register_8\": 448, \"Register_9\": 0} to topic: Modbus Data\n",
      "Published message: {\"Register_0\": 462, \"Register_1\": 278, \"Register_2\": 459, \"Register_3\": 0, \"Register_4\": 455, \"Register_5\": 0, \"Register_6\": 453, \"Register_7\": 0, \"Register_8\": 451, \"Register_9\": 0} to topic: Modbus Data\n",
      "Published message: {\"Register_0\": 465, \"Register_1\": 281, \"Register_2\": 462, \"Register_3\": 0, \"Register_4\": 458, \"Register_5\": 0, \"Register_6\": 456, \"Register_7\": 0, \"Register_8\": 454, \"Register_9\": 0} to topic: Modbus Data\n",
      "Published message: {\"Register_0\": 468, \"Register_1\": 284, \"Register_2\": 465, \"Register_3\": 0, \"Register_4\": 461, \"Register_5\": 0, \"Register_6\": 459, \"Register_7\": 0, \"Register_8\": 457, \"Register_9\": 0} to topic: Modbus Data\n",
      "Published message: {\"Register_0\": 471, \"Register_1\": 287, \"Register_2\": 468, \"Register_3\": 0, \"Register_4\": 464, \"Register_5\": 0, \"Register_6\": 462, \"Register_7\": 0, \"Register_8\": 460, \"Register_9\": 0} to topic: Modbus Data\n",
      "Published message: {\"Register_0\": 474, \"Register_1\": 290, \"Register_2\": 471, \"Register_3\": 0, \"Register_4\": 467, \"Register_5\": 0, \"Register_6\": 465, \"Register_7\": 0, \"Register_8\": 463, \"Register_9\": 0} to topic: Modbus Data\n",
      "Published message: {\"Register_0\": 477, \"Register_1\": 293, \"Register_2\": 474, \"Register_3\": 0, \"Register_4\": 470, \"Register_5\": 0, \"Register_6\": 468, \"Register_7\": 0, \"Register_8\": 466, \"Register_9\": 0} to topic: Modbus Data\n",
      "Published message: {\"Register_0\": 480, \"Register_1\": 296, \"Register_2\": 477, \"Register_3\": 0, \"Register_4\": 473, \"Register_5\": 0, \"Register_6\": 471, \"Register_7\": 0, \"Register_8\": 469, \"Register_9\": 0} to topic: Modbus Data\n",
      "Published message: {\"Register_0\": 483, \"Register_1\": 299, \"Register_2\": 480, \"Register_3\": 0, \"Register_4\": 476, \"Register_5\": 0, \"Register_6\": 474, \"Register_7\": 0, \"Register_8\": 472, \"Register_9\": 0} to topic: Modbus Data\n",
      "Published message: {\"Register_0\": 486, \"Register_1\": 302, \"Register_2\": 483, \"Register_3\": 0, \"Register_4\": 479, \"Register_5\": 0, \"Register_6\": 477, \"Register_7\": 0, \"Register_8\": 475, \"Register_9\": 0} to topic: Modbus Data\n",
      "Published message: {\"Register_0\": 489, \"Register_1\": 305, \"Register_2\": 486, \"Register_3\": 0, \"Register_4\": 482, \"Register_5\": 0, \"Register_6\": 480, \"Register_7\": 0, \"Register_8\": 478, \"Register_9\": 0} to topic: Modbus Data\n",
      "Published message: {\"Register_0\": 492, \"Register_1\": 308, \"Register_2\": 489, \"Register_3\": 0, \"Register_4\": 485, \"Register_5\": 0, \"Register_6\": 483, \"Register_7\": 0, \"Register_8\": 481, \"Register_9\": 0} to topic: Modbus Data\n"
     ]
    },
    {
     "name": "stderr",
     "output_type": "stream",
     "text": [
      "Connection to (127.0.0.1, 502) failed: [WinError 10061] No connection could be made because the target machine actively refused it\n",
      "Connection to (127.0.0.1, 502) failed: [WinError 10061] No connection could be made because the target machine actively refused it\n"
     ]
    },
    {
     "ename": "ConnectionException",
     "evalue": "Modbus Error: [Connection] Failed to connect[ModbusTcpClient 127.0.0.1:502]",
     "output_type": "error",
     "traceback": [
      "\u001b[1;31m---------------------------------------------------------------------------\u001b[0m",
      "\u001b[1;31mConnectionException\u001b[0m                       Traceback (most recent call last)",
      "Cell \u001b[1;32mIn[10], line 20\u001b[0m\n\u001b[0;32m     16\u001b[0m holding_register_count \u001b[38;5;241m=\u001b[39m \u001b[38;5;241m10\u001b[39m\n\u001b[0;32m     18\u001b[0m \u001b[38;5;28;01mwhile\u001b[39;00m \u001b[38;5;28;01mTrue\u001b[39;00m:\n\u001b[0;32m     19\u001b[0m     \u001b[38;5;66;03m# Read holding register values from Modbus TCP device\u001b[39;00m\n\u001b[1;32m---> 20\u001b[0m     values \u001b[38;5;241m=\u001b[39m \u001b[43mread_modbus_values\u001b[49m\u001b[43m(\u001b[49m\u001b[43mmodbus_ip\u001b[49m\u001b[43m,\u001b[49m\u001b[43m \u001b[49m\u001b[43mmodbus_port\u001b[49m\u001b[43m,\u001b[49m\u001b[43m \u001b[49m\u001b[38;5;241;43m0\u001b[39;49m\u001b[43m,\u001b[49m\u001b[43m \u001b[49m\u001b[43mholding_register_count\u001b[49m\u001b[43m)\u001b[49m\n\u001b[0;32m     22\u001b[0m     \u001b[38;5;66;03m# Construct JSON message\u001b[39;00m\n\u001b[0;32m     23\u001b[0m     json_data \u001b[38;5;241m=\u001b[39m {\u001b[38;5;124mf\u001b[39m\u001b[38;5;124m\"\u001b[39m\u001b[38;5;124mRegister_\u001b[39m\u001b[38;5;132;01m{\u001b[39;00mi\u001b[38;5;132;01m}\u001b[39;00m\u001b[38;5;124m\"\u001b[39m: values[i] \u001b[38;5;28;01mfor\u001b[39;00m i \u001b[38;5;129;01min\u001b[39;00m \u001b[38;5;28mrange\u001b[39m(holding_register_count)}\n",
      "Cell \u001b[1;32mIn[6], line 5\u001b[0m, in \u001b[0;36mread_modbus_values\u001b[1;34m(ip, port, address, count)\u001b[0m\n\u001b[0;32m      3\u001b[0m client \u001b[38;5;241m=\u001b[39m ModbusTcpClient(ip, port)\n\u001b[0;32m      4\u001b[0m client\u001b[38;5;241m.\u001b[39mconnect()\n\u001b[1;32m----> 5\u001b[0m result \u001b[38;5;241m=\u001b[39m \u001b[43mclient\u001b[49m\u001b[38;5;241;43m.\u001b[39;49m\u001b[43mread_holding_registers\u001b[49m\u001b[43m(\u001b[49m\u001b[43maddress\u001b[49m\u001b[43m,\u001b[49m\u001b[43m \u001b[49m\u001b[43mcount\u001b[49m\u001b[43m)\u001b[49m\n\u001b[0;32m      6\u001b[0m client\u001b[38;5;241m.\u001b[39mclose()\n\u001b[0;32m      7\u001b[0m \u001b[38;5;28;01mreturn\u001b[39;00m result\u001b[38;5;241m.\u001b[39mregisters \u001b[38;5;28;01mif\u001b[39;00m \u001b[38;5;28mhasattr\u001b[39m(result, \u001b[38;5;124m'\u001b[39m\u001b[38;5;124mregisters\u001b[39m\u001b[38;5;124m'\u001b[39m) \u001b[38;5;28;01melse\u001b[39;00m \u001b[38;5;28;01mNone\u001b[39;00m\n",
      "File \u001b[1;32mD:\\Program Files\\Python312\\Lib\\site-packages\\pymodbus\\client\\mixin.py:107\u001b[0m, in \u001b[0;36mModbusClientMixin.read_holding_registers\u001b[1;34m(self, address, count, slave, **kwargs)\u001b[0m\n\u001b[0;32m     96\u001b[0m \u001b[38;5;28;01mdef\u001b[39;00m \u001b[38;5;21mread_holding_registers\u001b[39m(\n\u001b[0;32m     97\u001b[0m     \u001b[38;5;28mself\u001b[39m, address: \u001b[38;5;28mint\u001b[39m, count: \u001b[38;5;28mint\u001b[39m \u001b[38;5;241m=\u001b[39m \u001b[38;5;241m1\u001b[39m, slave: \u001b[38;5;28mint\u001b[39m \u001b[38;5;241m=\u001b[39m \u001b[38;5;241m0\u001b[39m, \u001b[38;5;241m*\u001b[39m\u001b[38;5;241m*\u001b[39mkwargs: Any\n\u001b[0;32m     98\u001b[0m ) \u001b[38;5;241m-\u001b[39m\u001b[38;5;241m>\u001b[39m T:\n\u001b[0;32m     99\u001b[0m \u001b[38;5;250m    \u001b[39m\u001b[38;5;124;03m\"\"\"Read holding registers (code 0x03).\u001b[39;00m\n\u001b[0;32m    100\u001b[0m \n\u001b[0;32m    101\u001b[0m \u001b[38;5;124;03m    :param address: Start address to read from\u001b[39;00m\n\u001b[1;32m   (...)\u001b[0m\n\u001b[0;32m    105\u001b[0m \u001b[38;5;124;03m    :raises ModbusException:\u001b[39;00m\n\u001b[0;32m    106\u001b[0m \u001b[38;5;124;03m    \"\"\"\u001b[39;00m\n\u001b[1;32m--> 107\u001b[0m     \u001b[38;5;28;01mreturn\u001b[39;00m \u001b[38;5;28;43mself\u001b[39;49m\u001b[38;5;241;43m.\u001b[39;49m\u001b[43mexecute\u001b[49m\u001b[43m(\u001b[49m\n\u001b[0;32m    108\u001b[0m \u001b[43m        \u001b[49m\u001b[43mpdu_reg_read\u001b[49m\u001b[38;5;241;43m.\u001b[39;49m\u001b[43mReadHoldingRegistersRequest\u001b[49m\u001b[43m(\u001b[49m\u001b[43maddress\u001b[49m\u001b[43m,\u001b[49m\u001b[43m \u001b[49m\u001b[43mcount\u001b[49m\u001b[43m,\u001b[49m\u001b[43m \u001b[49m\u001b[43mslave\u001b[49m\u001b[43m,\u001b[49m\u001b[43m \u001b[49m\u001b[38;5;241;43m*\u001b[39;49m\u001b[38;5;241;43m*\u001b[39;49m\u001b[43mkwargs\u001b[49m\u001b[43m)\u001b[49m\n\u001b[0;32m    109\u001b[0m \u001b[43m    \u001b[49m\u001b[43m)\u001b[49m\n",
      "File \u001b[1;32mD:\\Program Files\\Python312\\Lib\\site-packages\\pymodbus\\client\\base.py:391\u001b[0m, in \u001b[0;36mModbusBaseSyncClient.execute\u001b[1;34m(self, request)\u001b[0m\n\u001b[0;32m    384\u001b[0m \u001b[38;5;250m\u001b[39m\u001b[38;5;124;03m\"\"\"Execute request and get response (call **sync/async**).\u001b[39;00m\n\u001b[0;32m    385\u001b[0m \n\u001b[0;32m    386\u001b[0m \u001b[38;5;124;03m:param request: The request to process\u001b[39;00m\n\u001b[0;32m    387\u001b[0m \u001b[38;5;124;03m:returns: The result of the request execution\u001b[39;00m\n\u001b[0;32m    388\u001b[0m \u001b[38;5;124;03m:raises ConnectionException: Check exception text.\u001b[39;00m\n\u001b[0;32m    389\u001b[0m \u001b[38;5;124;03m\"\"\"\u001b[39;00m\n\u001b[0;32m    390\u001b[0m \u001b[38;5;28;01mif\u001b[39;00m \u001b[38;5;129;01mnot\u001b[39;00m \u001b[38;5;28mself\u001b[39m\u001b[38;5;241m.\u001b[39mconnect():\n\u001b[1;32m--> 391\u001b[0m     \u001b[38;5;28;01mraise\u001b[39;00m ConnectionException(\u001b[38;5;124mf\u001b[39m\u001b[38;5;124m\"\u001b[39m\u001b[38;5;124mFailed to connect[\u001b[39m\u001b[38;5;132;01m{\u001b[39;00m\u001b[38;5;28mself\u001b[39m\u001b[38;5;132;01m!s}\u001b[39;00m\u001b[38;5;124m]\u001b[39m\u001b[38;5;124m\"\u001b[39m)\n\u001b[0;32m    392\u001b[0m \u001b[38;5;28;01mreturn\u001b[39;00m \u001b[38;5;28mself\u001b[39m\u001b[38;5;241m.\u001b[39mtransaction\u001b[38;5;241m.\u001b[39mexecute(request)\n",
      "\u001b[1;31mConnectionException\u001b[0m: Modbus Error: [Connection] Failed to connect[ModbusTcpClient 127.0.0.1:502]"
     ]
    }
   ],
   "source": [
    "if __name__ == \"__main__\":\n",
    "    # Open serial connection to the A9G module\n",
    "    ser = serial.Serial('COM5', 115200, timeout=1)\n",
    "\n",
    "    # Wait for the module to initialize\n",
    "    time.sleep(2)\n",
    "\n",
    "    try:\n",
    "\n",
    "        # Connect to MQTT broker using A9G board\n",
    "        connect_to_mqtt(mqtt_host, mqtt_port, mqtt_user, mqtt_password)\n",
    "\n",
    "        # Modbus TCP device details\n",
    "        modbus_ip = \"127.0.0.1\"\n",
    "        modbus_port = 502\n",
    "        holding_register_count = 10\n",
    "\n",
    "        while True:\n",
    "            # Read holding register values from Modbus TCP device\n",
    "            values = read_modbus_values(modbus_ip, modbus_port, 0, holding_register_count)\n",
    "\n",
    "            # Construct JSON message\n",
    "            json_data = {f\"Register_{i}\": values[i] for i in range(holding_register_count)}\n",
    "\n",
    "            # Convert JSON to string\n",
    "            json_message = json.dumps(json_data)\n",
    "\n",
    "            # Publish JSON message to MQTT broker\n",
    "            publish_to_mqtt(master_topic, str(json_data))\n",
    "            print(\"Published message: {} to topic: {}\".format(json_message, master_topic))\n",
    "\n",
    "            time.sleep(2)  # Read and publish values every 10 seconds\n",
    "            \n",
    "    except KeyboardInterrupt:\n",
    "        print(\"Exiting program.\")\n",
    "\n",
    "    # Close serial connection\n",
    "    ser.close()"
   ]
  },
  {
   "cell_type": "code",
   "execution_count": null,
   "id": "2dc0df5e-800a-4e8c-8591-8795db2a61cc",
   "metadata": {},
   "outputs": [],
   "source": []
  }
 ],
 "metadata": {
  "kernelspec": {
   "display_name": "Python 3 (ipykernel)",
   "language": "python",
   "name": "python3"
  },
  "language_info": {
   "codemirror_mode": {
    "name": "ipython",
    "version": 3
   },
   "file_extension": ".py",
   "mimetype": "text/x-python",
   "name": "python",
   "nbconvert_exporter": "python",
   "pygments_lexer": "ipython3",
   "version": "3.12.2"
  }
 },
 "nbformat": 4,
 "nbformat_minor": 5
}
