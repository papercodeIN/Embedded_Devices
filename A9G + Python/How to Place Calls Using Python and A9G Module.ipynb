{
 "cells": [
  {
   "cell_type": "code",
   "execution_count": 1,
   "id": "a1099452-5314-4ee6-aa1e-c996cee0b655",
   "metadata": {},
   "outputs": [],
   "source": [
    "import serial\n",
    "import time"
   ]
  },
  {
   "cell_type": "markdown",
   "id": "0491b8cf-c817-47d3-9150-e52b0f2e7a62",
   "metadata": {},
   "source": [
    "# Function to send an AT command to the A9G module"
   ]
  },
  {
   "cell_type": "code",
   "execution_count": 2,
   "id": "169d80fe-68f8-4763-8073-f813c29d58bf",
   "metadata": {},
   "outputs": [],
   "source": [
    "def send_command(command):\n",
    "    ser.write((command + '\\r\\n').encode())\n",
    "    time.sleep(1)\n",
    "    response = ser.read(ser.inWaiting()).decode()\n",
    "    return response"
   ]
  },
  {
   "cell_type": "markdown",
   "id": "119fd052-0ed7-4a3c-a1ea-e0ad95cf7ae3",
   "metadata": {},
   "source": [
    "# Function to make a call"
   ]
  },
  {
   "cell_type": "code",
   "execution_count": 3,
   "id": "61bc2837-8e24-4b03-9d9f-31c79ef8bcd2",
   "metadata": {},
   "outputs": [],
   "source": [
    "def make_call(phone_number):\n",
    "    send_command('ATD{}'.format(phone_number))  # Dial the phone number"
   ]
  },
  {
   "cell_type": "markdown",
   "id": "bf70a5fe-36d4-4a93-91f8-355f0e82b007",
   "metadata": {},
   "source": [
    "# Main code"
   ]
  },
  {
   "cell_type": "code",
   "execution_count": 5,
   "id": "d1618181-9759-4a8a-9028-79979bbd5f93",
   "metadata": {},
   "outputs": [
    {
     "name": "stdout",
     "output_type": "stream",
     "text": [
      "ATD+917284867759\n"
     ]
    }
   ],
   "source": [
    "if __name__ == \"__main__\":\n",
    "    # Open serial connection to the A9G module\n",
    "    ser = serial.Serial('COM5', 115200, timeout=1)\n",
    "\n",
    "    # Wait for the module to initialize\n",
    "    time.sleep(2)\n",
    "\n",
    "    # Make a call\n",
    "    # phone_number = input(\"Enter phone number (e.g. +549XXXXXXXXXX): \")\n",
    "    phone_number = \"+917284867759\"\n",
    "\n",
    "    make_call(phone_number)\n",
    "\n",
    "    # Close serial connection\n",
    "    ser.close()"
   ]
  },
  {
   "cell_type": "code",
   "execution_count": null,
   "id": "53b30bb8-8195-410c-94cf-21b1c10ad8df",
   "metadata": {},
   "outputs": [],
   "source": []
  }
 ],
 "metadata": {
  "kernelspec": {
   "display_name": "Python 3 (ipykernel)",
   "language": "python",
   "name": "python3"
  },
  "language_info": {
   "codemirror_mode": {
    "name": "ipython",
    "version": 3
   },
   "file_extension": ".py",
   "mimetype": "text/x-python",
   "name": "python",
   "nbconvert_exporter": "python",
   "pygments_lexer": "ipython3",
   "version": "3.12.2"
  }
 },
 "nbformat": 4,
 "nbformat_minor": 5
}
