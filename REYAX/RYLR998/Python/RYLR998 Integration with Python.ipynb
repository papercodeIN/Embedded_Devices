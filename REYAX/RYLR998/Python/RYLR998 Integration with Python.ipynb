{
 "cells": [
  {
   "cell_type": "code",
   "execution_count": null,
   "id": "bf8c9d63-1e22-4eea-80d8-8de04832cf1d",
   "metadata": {
    "scrolled": true
   },
   "outputs": [],
   "source": [
    "!pip install serial"
   ]
  },
  {
   "cell_type": "code",
   "execution_count": null,
   "id": "20317a22-4163-4591-9aac-8124a8d1722f",
   "metadata": {},
   "outputs": [],
   "source": [
    "!pip install pyserial"
   ]
  },
  {
   "cell_type": "markdown",
   "id": "68dfa203-467e-458a-91d0-29c88368fe25",
   "metadata": {},
   "source": [
    "# Import Required Library "
   ]
  },
  {
   "cell_type": "code",
   "execution_count": 1,
   "id": "a991afdc-4ba6-4b9a-998e-fe57a41d89f1",
   "metadata": {},
   "outputs": [],
   "source": [
    "import serial\n",
    "import time"
   ]
  },
  {
   "cell_type": "code",
   "execution_count": 2,
   "id": "38a9b753-ff97-42d6-b9e9-b79d671a99c7",
   "metadata": {},
   "outputs": [],
   "source": [
    "# Open serial connection to the A9G module\n",
    "ser = serial.Serial('COM4', 115200, timeout=1)"
   ]
  },
  {
   "cell_type": "markdown",
   "id": "2a2f8d7e-867d-4a57-b13f-a7130306571c",
   "metadata": {},
   "source": [
    "# Function to send an AT command to check connection"
   ]
  },
  {
   "cell_type": "code",
   "execution_count": 3,
   "id": "359c8c8f-4179-4a9a-a2b5-7debd430ea8a",
   "metadata": {},
   "outputs": [],
   "source": [
    "def check_connection():\n",
    "    ser.write(b'AT\\r\\n')\n",
    "    time.sleep(1)\n",
    "    response = ser.read(ser.inWaiting()).decode()\n",
    "    if \"OK\" in response:\n",
    "        print(\"Connection is OK.\")\n",
    "    else:\n",
    "        print(\"Connection is not OK.\")"
   ]
  },
  {
   "cell_type": "code",
   "execution_count": 4,
   "id": "99c9f460-f191-4460-9683-d12cf1266443",
   "metadata": {},
   "outputs": [
    {
     "name": "stdout",
     "output_type": "stream",
     "text": [
      "Connection is OK.\n"
     ]
    }
   ],
   "source": [
    "# Check connection\n",
    "check_connection()"
   ]
  },
  {
   "cell_type": "code",
   "execution_count": 8,
   "id": "a141c6f1-4dcd-451e-90a7-be8dafb2bbd8",
   "metadata": {},
   "outputs": [],
   "source": [
    "def check_address():\n",
    "    ser.write(b'AT+ADDRESS?\\r\\n')\n",
    "    time.sleep(1)\n",
    "    response = ser.read(ser.inWaiting()).decode()"
   ]
  },
  {
   "cell_type": "code",
   "execution_count": 9,
   "id": "3ec77008-67c9-445e-9f95-bd17f612f1b1",
   "metadata": {},
   "outputs": [],
   "source": [
    "check_address()"
   ]
  },
  {
   "cell_type": "code",
   "execution_count": null,
   "id": "9a4049d6-1405-4b64-934f-34d846b6869d",
   "metadata": {},
   "outputs": [],
   "source": [
    "# Close serial connection\n",
    "ser.close()"
   ]
  }
 ],
 "metadata": {
  "kernelspec": {
   "display_name": "Python 3 (ipykernel)",
   "language": "python",
   "name": "python3"
  },
  "language_info": {
   "codemirror_mode": {
    "name": "ipython",
    "version": 3
   },
   "file_extension": ".py",
   "mimetype": "text/x-python",
   "name": "python",
   "nbconvert_exporter": "python",
   "pygments_lexer": "ipython3",
   "version": "3.13.0"
  }
 },
 "nbformat": 4,
 "nbformat_minor": 5
}
