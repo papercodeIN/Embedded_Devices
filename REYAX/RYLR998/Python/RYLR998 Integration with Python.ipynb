{
 "cells": [
  {
   "cell_type": "markdown",
   "id": "ee072a6b-6ee5-496f-9177-ff567da11b83",
   "metadata": {},
   "source": [
    "# Install Library"
   ]
  },
  {
   "cell_type": "code",
   "execution_count": null,
   "id": "bf8c9d63-1e22-4eea-80d8-8de04832cf1d",
   "metadata": {
    "scrolled": true
   },
   "outputs": [],
   "source": [
    "!pip install serial"
   ]
  },
  {
   "cell_type": "code",
   "execution_count": null,
   "id": "20317a22-4163-4591-9aac-8124a8d1722f",
   "metadata": {},
   "outputs": [],
   "source": [
    "!pip install pyserial"
   ]
  },
  {
   "cell_type": "markdown",
   "id": "68dfa203-467e-458a-91d0-29c88368fe25",
   "metadata": {},
   "source": [
    "# Import Required Library "
   ]
  },
  {
   "cell_type": "code",
   "execution_count": null,
   "id": "a991afdc-4ba6-4b9a-998e-fe57a41d89f1",
   "metadata": {},
   "outputs": [],
   "source": [
    "import serial\n",
    "import time\n",
    "from datetime import datetime  # Import datetime for timestamp"
   ]
  },
  {
   "cell_type": "code",
   "execution_count": null,
   "id": "38a9b753-ff97-42d6-b9e9-b79d671a99c7",
   "metadata": {},
   "outputs": [],
   "source": [
    "# Open serial connection to the REYAX RYLR998 LoRa Transceiver Module\n",
    "ser = serial.Serial('COM4', 115200, timeout=1)"
   ]
  },
  {
   "cell_type": "markdown",
   "id": "2a2f8d7e-867d-4a57-b13f-a7130306571c",
   "metadata": {},
   "source": [
    "# Function to send an AT command to check connection"
   ]
  },
  {
   "cell_type": "code",
   "execution_count": null,
   "id": "359c8c8f-4179-4a9a-a2b5-7debd430ea8a",
   "metadata": {},
   "outputs": [],
   "source": [
    "def check_connection():\n",
    "    ser.write(b'AT\\r\\n')\n",
    "    time.sleep(1)\n",
    "    response = ser.read(ser.inWaiting()).decode()\n",
    "    if \"OK\" in response:\n",
    "        print(\"Connection is OK.\")\n",
    "    else:\n",
    "        print(\"Connection is not OK.\")"
   ]
  },
  {
   "cell_type": "code",
   "execution_count": null,
   "id": "99c9f460-f191-4460-9683-d12cf1266443",
   "metadata": {},
   "outputs": [],
   "source": [
    "# Check connection\n",
    "check_connection()"
   ]
  },
  {
   "cell_type": "markdown",
   "id": "2fd1a68c-be63-492d-9159-38c93eac6175",
   "metadata": {},
   "source": [
    "# Get Address Info"
   ]
  },
  {
   "cell_type": "code",
   "execution_count": null,
   "id": "a141c6f1-4dcd-451e-90a7-be8dafb2bbd8",
   "metadata": {},
   "outputs": [],
   "source": [
    "def check_address():\n",
    "    ser.write(b'AT+ADDRESS?\\r\\n')\n",
    "    time.sleep(1)\n",
    "    response = ser.read(ser.inWaiting()).decode()\n",
    "    print(response)"
   ]
  },
  {
   "cell_type": "code",
   "execution_count": null,
   "id": "3ec77008-67c9-445e-9f95-bd17f612f1b1",
   "metadata": {},
   "outputs": [],
   "source": [
    "check_address()"
   ]
  },
  {
   "cell_type": "markdown",
   "id": "f99809dc-4709-4112-9fe3-67697684fb44",
   "metadata": {},
   "source": [
    "# Get the network ID"
   ]
  },
  {
   "cell_type": "code",
   "execution_count": null,
   "id": "4de627ac-10eb-434d-bad3-bf313727b902",
   "metadata": {},
   "outputs": [],
   "source": [
    "def check_networkid():\n",
    "    ser.write(b'AT+NETWORKID?\\r\\n')\n",
    "    time.sleep(1)\n",
    "    response = ser.read(ser.inWaiting()).decode()\n",
    "    print(response)"
   ]
  },
  {
   "cell_type": "code",
   "execution_count": null,
   "id": "53a97be3-4503-47fb-a5a4-3ab384b6fbb3",
   "metadata": {},
   "outputs": [],
   "source": [
    "check_networkid()"
   ]
  },
  {
   "cell_type": "markdown",
   "id": "a239f311-1a18-418f-a15a-8be0643ddeb1",
   "metadata": {},
   "source": [
    "# Get RF Frequency | Band"
   ]
  },
  {
   "cell_type": "code",
   "execution_count": null,
   "id": "58aaa9c5-da2d-48d7-bcb3-94b14243e0d7",
   "metadata": {},
   "outputs": [],
   "source": [
    "def check_rfband():\n",
    "    ser.write(b'AT+BAND?\\r\\n')\n",
    "    time.sleep(1)\n",
    "    response = ser.read(ser.inWaiting()).decode()\n",
    "    print(response)"
   ]
  },
  {
   "cell_type": "code",
   "execution_count": null,
   "id": "4cb86e2f-09ae-49e3-af0d-33a9d95acf0a",
   "metadata": {},
   "outputs": [],
   "source": [
    "check_rfband()"
   ]
  },
  {
   "cell_type": "markdown",
   "id": "53ca8ccd-fedb-4528-8d83-6d5cfe66e4e9",
   "metadata": {},
   "source": [
    "# Set Address"
   ]
  },
  {
   "cell_type": "code",
   "execution_count": null,
   "id": "32f5b963-7dea-408e-bfeb-217ab249cd4f",
   "metadata": {},
   "outputs": [],
   "source": [
    "def set_address():\n",
    "    ser.write(b'AT+ADDRESS=1\\r\\n')\n",
    "    time.sleep(1)\n",
    "    response = ser.read(ser.inWaiting()).decode()\n",
    "    print(response)"
   ]
  },
  {
   "cell_type": "code",
   "execution_count": null,
   "id": "65d77891-01d7-4ca3-a671-8b2f3e287fee",
   "metadata": {},
   "outputs": [],
   "source": [
    "set_address()"
   ]
  },
  {
   "cell_type": "markdown",
   "id": "82fd471c-bf67-4129-8f82-fee15c9c34ff",
   "metadata": {},
   "source": [
    "# Check Last Send Payload"
   ]
  },
  {
   "cell_type": "code",
   "execution_count": null,
   "id": "d540dab6-76eb-4c00-9a5a-056596fb48e5",
   "metadata": {},
   "outputs": [],
   "source": [
    "def check_lastpayload():\n",
    "    ser.write(b'AT+SEND?\\r\\n')\n",
    "    time.sleep(1)\n",
    "    response = ser.read(ser.inWaiting()).decode()\n",
    "    print(response)"
   ]
  },
  {
   "cell_type": "code",
   "execution_count": null,
   "id": "5a53033d-f71a-4aff-a28a-32b4f91d9044",
   "metadata": {},
   "outputs": [],
   "source": [
    "check_lastpayload()"
   ]
  },
  {
   "cell_type": "markdown",
   "id": "2669412f-b001-4f94-be80-b5c26dcd03a5",
   "metadata": {},
   "source": [
    "# Send Payload to Address 2"
   ]
  },
  {
   "cell_type": "code",
   "execution_count": null,
   "id": "5c2c3b5e-6e2e-4e61-bd9c-956e56be89d9",
   "metadata": {},
   "outputs": [],
   "source": [
    "def send_payload():\n",
    "    ser.write(b'AT+SEND=2,6,FUSION\\r\\n')\n",
    "    time.sleep(1)\n",
    "    response = ser.read(ser.inWaiting()).decode()\n",
    "    print(response)"
   ]
  },
  {
   "cell_type": "code",
   "execution_count": null,
   "id": "ef77ff77-32c1-4b32-af1b-95ab4e25ca9e",
   "metadata": {},
   "outputs": [],
   "source": [
    "send_payload()"
   ]
  },
  {
   "cell_type": "markdown",
   "id": "88d4f20f-6e30-45b5-9ed3-4f3b9a20bffa",
   "metadata": {},
   "source": [
    "# Monitor Received Data from Address 2"
   ]
  },
  {
   "cell_type": "code",
   "execution_count": null,
   "id": "389bc289-3777-4193-a973-ab4ba77bf157",
   "metadata": {},
   "outputs": [],
   "source": [
    "def monitor_serial_data(ser):\n",
    "    try:\n",
    "        print(f\"Listening on {ser.port} at {ser.baudrate} baud rate...\")\n",
    "\n",
    "        while True:\n",
    "            if ser.in_waiting > 0:\n",
    "                data = ser.readline().decode('utf-8').strip()  # Read and decode data\n",
    "                if data:  # Ensure it's not empty\n",
    "                    current_time = datetime.now().strftime(\"%Y-%m-%d %H:%M:%S\")  # Get current timestamp\n",
    "                    # print(f\"[{current_time}] Received data: {data}\")\n",
    "                    \n",
    "                    if data.startswith(\"+RCV=\"):\n",
    "                        parts = data.split(',')\n",
    "                        node_id, msg_len, message, rssi, snr = parts[0], parts[1], parts[2], parts[3], parts[4]\n",
    "                        print(f\"[{current_time}] Node ID: {node_id}, Message: {message}, RSSI: {rssi}, SNR: {snr}\")\n",
    "                            \n",
    "            time.sleep(0.1)  # Prevent CPU overload\n",
    "\n",
    "    except KeyboardInterrupt:\n",
    "        print(\"\\nProgram stopped by user.\")\n",
    "    except serial.SerialException as e:\n",
    "        print(f\"Serial Error: {e}\")\n",
    "    finally:\n",
    "        print(\"Serial monitoring stopped.\")"
   ]
  },
  {
   "cell_type": "code",
   "execution_count": null,
   "id": "f4ff7b02-db1c-4577-b480-949234585a95",
   "metadata": {},
   "outputs": [],
   "source": [
    "monitor_serial_data(ser)"
   ]
  },
  {
   "cell_type": "markdown",
   "id": "0c7c305a-baf7-4f21-a568-e2370fc4eb16",
   "metadata": {},
   "source": [
    "# Close serial connection"
   ]
  },
  {
   "cell_type": "code",
   "execution_count": null,
   "id": "9a4049d6-1405-4b64-934f-34d846b6869d",
   "metadata": {},
   "outputs": [],
   "source": [
    "ser.close()"
   ]
  }
 ],
 "metadata": {
  "kernelspec": {
   "display_name": "Python 3 (ipykernel)",
   "language": "python",
   "name": "python3"
  },
  "language_info": {
   "codemirror_mode": {
    "name": "ipython",
    "version": 3
   },
   "file_extension": ".py",
   "mimetype": "text/x-python",
   "name": "python",
   "nbconvert_exporter": "python",
   "pygments_lexer": "ipython3",
   "version": "3.13.0"
  }
 },
 "nbformat": 4,
 "nbformat_minor": 5
}
